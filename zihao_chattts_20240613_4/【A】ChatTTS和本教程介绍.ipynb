{
 "cells": [
  {
   "cell_type": "markdown",
   "id": "04bbf0ac-1cc7-4e36-8b2a-2a794aa2478a",
   "metadata": {},
   "source": [
    "# ChatTTS和本教程介绍\n",
    "\n",
    "同济子豪兄 2024-6-13"
   ]
  },
  {
   "cell_type": "markdown",
   "id": "53950f91-1046-4bdb-b27b-461d8ce4c9e0",
   "metadata": {},
   "source": [
    "## ChatTTS介绍"
   ]
  },
  {
   "cell_type": "markdown",
   "id": "ff2d7e18-1f02-4dc5-a54a-4781a3667d71",
   "metadata": {},
   "source": [
    "输入文字，AI生成逼真的中英文语音和语气。作为数字人、大模型、人机对话、具身智能的语音交互基座。"
   ]
  },
  {
   "cell_type": "markdown",
   "id": "c2f8fd28-ec73-4a90-bc6a-d5a96bb3cbc0",
   "metadata": {},
   "source": [
    "## 开源代码\n",
    "\n",
    "Github：https://github.com/2noise/ChatTTS\n",
    "\n",
    "HuggingFace：https://huggingface.co/2Noise/ChatTTS"
   ]
  },
  {
   "cell_type": "markdown",
   "id": "ac23e2ff-b68c-4915-adc2-fd08429b86f4",
   "metadata": {},
   "source": [
    "## 在线Demo\n",
    "\n",
    "生成效果视频：https://www.bilibili.com/video/BV1zn4y1o7iV\n",
    "\n",
    "在线网页Demo：https://huggingface.co/spaces/lenML/ChatTTS-Forge"
   ]
  },
  {
   "cell_type": "markdown",
   "id": "981883de-4e30-4426-9c9b-f22d45ce2194",
   "metadata": {},
   "source": [
    "## 本教程包括\n",
    "\n",
    "- 安装配置环境\n",
    "\n",
    "- 启动WebUI在线网页Demo\n",
    "\n",
    "- 基础：一句话、多句话语音合成\n",
    "\n",
    "- 进阶：音色、语调、笑声、停顿控制\n",
    "\n",
    "- 进阶：自动生成语气词\n",
    "\n",
    "- 封装函数\n",
    "\n",
    "- 接入大模型多轮对话（零一万物、文心一言）"
   ]
  },
  {
   "cell_type": "markdown",
   "id": "079523dd-80ba-48a2-816d-4d934a327a12",
   "metadata": {},
   "source": [
    "## 云GPU环境\n",
    "\n",
    "公众号 人工智能小技巧 回复 GPU\n",
    "\n",
    "环境：Ubuntu 22.04、CUDA 12.1、Python3.10、Pytorch 2.1.1"
   ]
  },
  {
   "cell_type": "code",
   "execution_count": null,
   "id": "de1489ed-2b82-4826-bdd8-17c918c17293",
   "metadata": {},
   "outputs": [],
   "source": []
  }
 ],
 "metadata": {
  "kernelspec": {
   "display_name": "Python 3 (ipykernel)",
   "language": "python",
   "name": "python3"
  },
  "language_info": {
   "codemirror_mode": {
    "name": "ipython",
    "version": 3
   },
   "file_extension": ".py",
   "mimetype": "text/x-python",
   "name": "python",
   "nbconvert_exporter": "python",
   "pygments_lexer": "ipython3",
   "version": "3.10.13"
  }
 },
 "nbformat": 4,
 "nbformat_minor": 5
}
