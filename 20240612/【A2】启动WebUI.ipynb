{
 "cells": [
  {
   "cell_type": "markdown",
   "id": "85070fc5-7bb8-4439-9f9b-cc2044ea37b3",
   "metadata": {},
   "source": [
    "# 启动WebUI\n",
    "\n",
    "同济子豪兄 2024-6-12"
   ]
  },
  {
   "cell_type": "markdown",
   "id": "c83d4dcf-37b5-46a0-bda8-38db8ae83d6c",
   "metadata": {},
   "source": [
    "## 导入工具包"
   ]
  },
  {
   "cell_type": "code",
   "execution_count": 2,
   "id": "91d49e64-2e18-4d24-aa51-7c271b0f1724",
   "metadata": {},
   "outputs": [],
   "source": [
    "import os"
   ]
  },
  {
   "cell_type": "markdown",
   "id": "2b98b7e0-a363-4c2b-a2df-64554128bd5e",
   "metadata": {},
   "source": [
    "## 进入ChatTTS主目录"
   ]
  },
  {
   "cell_type": "code",
   "execution_count": 3,
   "id": "efe10618-bc86-4227-8fd2-1e5902ebc909",
   "metadata": {},
   "outputs": [],
   "source": [
    "os.chdir('ChatTTS')"
   ]
  },
  {
   "cell_type": "markdown",
   "id": "8db94d89-481c-41dd-aa2b-4979c6a20ccb",
   "metadata": {},
   "source": [
    "## 修改`webui.py`文件\n",
    "\n",
    "将第109行加上`share=True`参数\n",
    "```python\n",
    "demo.launch(server_name=args.server_name, server_port=args.server_port, inbrowser=True, share=True)\n",
    "```"
   ]
  },
  {
   "cell_type": "markdown",
   "id": "e329dd3e-0293-4ee3-ba1d-9855c96b8354",
   "metadata": {},
   "source": [
    "## 启动WebUI"
   ]
  },
  {
   "cell_type": "code",
   "execution_count": null,
   "id": "5227940f-7446-4b6a-94b4-945c9b8411a1",
   "metadata": {},
   "outputs": [
    {
     "name": "stdout",
     "output_type": "stream",
     "text": [
      "loading ChatTTS model...\n",
      "INFO:ChatTTS.core:Load from cache: /home/featurize/.cache/huggingface/hub/models--2Noise--ChatTTS/snapshots/cc14302f34d7855eb3420d1fd48345012ff1460d\n",
      "INFO:ChatTTS.core:use cuda:0\n",
      "INFO:httpx:HTTP Request: GET https://checkip.amazonaws.com/ \"HTTP/1.1 200 \"\n",
      "INFO:httpx:HTTP Request: GET https://api.gradio.app/pkg-version \"HTTP/1.1 200 OK\"\n",
      "INFO:ChatTTS.core:vocos loaded.\n",
      "INFO:ChatTTS.core:dvae loaded.\n",
      "INFO:ChatTTS.core:gpt loaded.\n",
      "INFO:ChatTTS.core:decoder loaded.\n",
      "INFO:ChatTTS.core:tokenizer loaded.\n",
      "INFO:ChatTTS.core:All initialized.\n",
      "Running on local URL:  http://0.0.0.0:8080\n",
      "INFO:httpx:HTTP Request: GET http://localhost:8080/startup-events \"HTTP/1.1 200 OK\"\n",
      "INFO:httpx:HTTP Request: HEAD http://localhost:8080/ \"HTTP/1.1 200 OK\"\n",
      "INFO:httpx:HTTP Request: GET https://api.gradio.app/v2/tunnel-request \"HTTP/1.1 200 OK\"\n",
      "INFO:httpx:HTTP Request: GET https://cdn-media.huggingface.co/frpc-gradio-0.2/frpc_linux_amd64 \"HTTP/1.1 200 OK\"\n",
      "Running on public URL: https://bfea6f261c9edba7ec.gradio.live\n",
      "\n",
      "This share link expires in 72 hours. For free permanent hosting and GPU upgrades, run `gradio deploy` from Terminal to deploy to Spaces (https://huggingface.co/spaces)\n",
      "INFO:ChatTTS.core:All initialized.\n",
      "  0%|                                                   | 0/384 [00:00<?, ?it/s]/environment/miniconda3/lib/python3.10/site-packages/torch/overrides.py:110: UserWarning: 'has_cuda' is deprecated, please use 'torch.backends.cuda.is_built()'\n",
      "  torch.has_cuda,\n",
      "/environment/miniconda3/lib/python3.10/site-packages/torch/overrides.py:111: UserWarning: 'has_cudnn' is deprecated, please use 'torch.backends.cudnn.is_available()'\n",
      "  torch.has_cudnn,\n",
      "/environment/miniconda3/lib/python3.10/site-packages/torch/overrides.py:117: UserWarning: 'has_mps' is deprecated, please use 'torch.backends.mps.is_built()'\n",
      "  torch.has_mps,\n",
      "/environment/miniconda3/lib/python3.10/site-packages/torch/overrides.py:118: UserWarning: 'has_mkldnn' is deprecated, please use 'torch.backends.mkldnn.is_available()'\n",
      "  torch.has_mkldnn,\n",
      "/environment/miniconda3/lib/python3.10/site-packages/torch/_inductor/compile_fx.py:135: UserWarning: TensorFloat32 tensor cores for float32 matrix multiplication available but not enabled. Consider setting `torch.set_float32_matmul_precision('high')` for better performance.\n",
      "  warnings.warn(\n",
      " 17%|███████                                   | 65/384 [02:37<12:51,  2.42s/it]\n",
      "INFO:ChatTTS.core:All initialized.\n",
      " 30%|███████████▉                            | 611/2048 [00:59<02:20, 10.22it/s]\n",
      "/environment/miniconda3/lib/python3.10/site-packages/gradio/processing_utils.py:583: UserWarning: Trying to convert audio automatically from float32 to 16-bit int format.\n",
      "  warnings.warn(warning.format(data.dtype))\n",
      "INFO:ChatTTS.core:All initialized.\n",
      " 14%|█████▋                                    | 52/384 [00:00<00:04, 78.38it/s]\n",
      "INFO:ChatTTS.core:All initialized.\n",
      " 23%|█████████▎                              | 474/2048 [00:06<00:20, 77.90it/s]\n",
      "INFO:ChatTTS.core:All initialized.\n",
      " 14%|█████▋                                    | 52/384 [00:00<00:04, 79.47it/s]\n",
      "INFO:ChatTTS.core:All initialized.\n",
      " 27%|██████████▋                             | 549/2048 [00:06<00:18, 80.24it/s]\n",
      "INFO:ChatTTS.core:All initialized.\n",
      " 13%|█████▎                                    | 49/384 [00:00<00:04, 78.32it/s]\n",
      "INFO:ChatTTS.core:All initialized.\n",
      " 26%|██████████▌                             | 539/2048 [00:06<00:19, 78.01it/s]\n",
      "INFO:ChatTTS.core:All initialized.\n",
      " 13%|█████▎                                    | 49/384 [00:00<00:04, 76.02it/s]\n",
      "INFO:ChatTTS.core:All initialized.\n",
      " 29%|███████████▌                            | 594/2048 [00:07<00:18, 78.16it/s]\n",
      "INFO:ChatTTS.core:All initialized.\n",
      " 13%|█████▍                                    | 50/384 [00:00<00:04, 79.18it/s]\n",
      "INFO:ChatTTS.core:All initialized.\n",
      " 29%|███████████▍                            | 585/2048 [00:07<00:18, 78.76it/s]\n",
      "INFO:ChatTTS.core:All initialized.\n",
      "WARNING:ChatTTS.core:Invalid characters found! : {'6', '8', '1', '：'}\n",
      " 36%|██████████████▋                          | 137/384 [00:53<01:36,  2.57it/s]\n",
      "INFO:ChatTTS.core:All initialized.\n",
      " 57%|██████████████████████▏                | 1166/2048 [00:14<00:11, 78.83it/s]\n",
      "/environment/miniconda3/lib/python3.10/site-packages/gradio/processing_utils.py:583: UserWarning: Trying to convert audio automatically from float32 to 16-bit int format.\n",
      "  warnings.warn(warning.format(data.dtype))\n",
      "INFO:ChatTTS.core:All initialized.\n",
      " 17%|███████                                   | 65/384 [00:00<00:04, 78.79it/s]\n",
      "INFO:ChatTTS.core:All initialized.\n",
      " 30%|███████████▉                            | 611/2048 [00:07<00:18, 77.98it/s]\n",
      "INFO:ChatTTS.core:All initialized.\n",
      " 17%|███████                                   | 65/384 [00:00<00:04, 79.61it/s]\n",
      "INFO:ChatTTS.core:All initialized.\n",
      " 30%|███████████▉                            | 611/2048 [00:07<00:18, 78.89it/s]\n",
      "INFO:ChatTTS.core:All initialized.\n",
      " 17%|███████                                   | 64/384 [00:00<00:04, 77.06it/s]\n",
      "INFO:ChatTTS.core:All initialized.\n",
      " 26%|██████████▍                             | 534/2048 [00:07<00:20, 75.59it/s]\n",
      "INFO:ChatTTS.core:All initialized.\n",
      " 17%|███████                                   | 64/384 [00:00<00:04, 77.22it/s]\n",
      "INFO:ChatTTS.core:All initialized.\n",
      " 25%|█████████▊                              | 502/2048 [00:06<00:20, 75.79it/s]\n",
      "INFO:ChatTTS.core:All initialized.\n",
      " 16%|██████▉                                   | 63/384 [00:00<00:04, 78.46it/s]\n",
      "INFO:ChatTTS.core:All initialized.\n",
      " 31%|████████████▎                           | 628/2048 [00:08<00:18, 78.25it/s]\n",
      "INFO:ChatTTS.core:All initialized.\n",
      " 17%|███████                                   | 64/384 [00:00<00:04, 79.53it/s]\n",
      "INFO:ChatTTS.core:All initialized.\n",
      " 24%|█████████▊                              | 501/2048 [00:06<00:19, 78.60it/s]\n",
      "INFO:ChatTTS.core:All initialized.\n",
      " 17%|███████                                   | 64/384 [00:00<00:03, 81.82it/s]\n",
      "INFO:ChatTTS.core:All initialized.\n",
      " 30%|███████████▉                            | 614/2048 [00:07<00:18, 78.60it/s]\n",
      "INFO:ChatTTS.core:All initialized.\n",
      " 17%|███████                                   | 64/384 [00:00<00:04, 78.72it/s]\n",
      "INFO:ChatTTS.core:All initialized.\n",
      " 28%|███████████▏                            | 575/2048 [00:07<00:18, 80.21it/s]\n",
      "INFO:ChatTTS.core:All initialized.\n",
      " 17%|███████                                   | 65/384 [00:00<00:04, 74.74it/s]\n",
      "INFO:ChatTTS.core:All initialized.\n",
      " 30%|███████████▉                            | 614/2048 [00:08<00:19, 71.70it/s]\n",
      "INFO:ChatTTS.core:All initialized.\n",
      " 17%|███████                                   | 65/384 [00:00<00:04, 76.80it/s]\n",
      "INFO:ChatTTS.core:All initialized.\n",
      " 25%|█████████▉                              | 509/2048 [00:06<00:19, 78.10it/s]\n",
      "INFO:ChatTTS.core:All initialized.\n",
      "WARNING:ChatTTS.core:Invalid characters found! : {'？'}\n",
      "  6%|██▌                                       | 23/384 [00:00<00:04, 76.98it/s]\n",
      "INFO:ChatTTS.core:All initialized.\n",
      "WARNING:ChatTTS.core:Invalid characters found! : {'？'}\n",
      " 10%|████                                    | 205/2048 [00:02<00:23, 78.40it/s]\n",
      "INFO:ChatTTS.core:All initialized.\n",
      " 10%|████▎                                     | 39/384 [00:00<00:04, 75.81it/s]\n",
      "INFO:ChatTTS.core:All initialized.\n",
      " 15%|█████▊                                  | 299/2048 [00:03<00:22, 78.14it/s]\n",
      "INFO:ChatTTS.core:All initialized.\n",
      " 10%|████▎                                     | 39/384 [00:00<00:04, 75.91it/s]\n",
      "INFO:ChatTTS.core:All initialized.\n",
      " 16%|██████▎                                 | 326/2048 [00:04<00:22, 76.25it/s]\n",
      "INFO:ChatTTS.core:All initialized.\n",
      " 10%|████▎                                     | 39/384 [00:00<00:04, 74.95it/s]\n",
      "INFO:ChatTTS.core:All initialized.\n",
      " 16%|██████▍                                 | 329/2048 [00:04<00:22, 77.48it/s]\n",
      "INFO:ChatTTS.core:All initialized.\n",
      " 10%|████▎                                     | 39/384 [00:00<00:04, 78.08it/s]\n",
      "INFO:ChatTTS.core:All initialized.\n",
      " 16%|██████▍                                 | 328/2048 [00:04<00:21, 79.00it/s]\n",
      "INFO:ChatTTS.core:All initialized.\n",
      " 10%|████▍                                     | 40/384 [00:00<00:04, 76.91it/s]\n",
      "INFO:ChatTTS.core:All initialized.\n",
      " 16%|██████▎                                 | 325/2048 [00:04<00:22, 77.24it/s]\n",
      "INFO:ChatTTS.core:All initialized.\n",
      "WARNING:ChatTTS.core:Invalid characters found! : {']', '[', '_'}\n",
      " 12%|█████                                     | 46/384 [00:35<04:19,  1.30it/s]\n",
      "INFO:ChatTTS.core:All initialized.\n",
      " 19%|███████▍                                | 382/2048 [00:04<00:21, 78.72it/s]\n",
      "/environment/miniconda3/lib/python3.10/site-packages/gradio/processing_utils.py:583: UserWarning: Trying to convert audio automatically from float32 to 16-bit int format.\n",
      "  warnings.warn(warning.format(data.dtype))\n"
     ]
    }
   ],
   "source": [
    "!python webui.py"
   ]
  },
  {
   "cell_type": "markdown",
   "id": "947a474f-155f-4b14-aa06-0458611f5087",
   "metadata": {},
   "source": [
    "## 全世界任意一个浏览器都可以访问这个网站，生成语音啦~\n",
    "\n",
    "```\n",
    "Running on public URL: https://bfea6f261c9edba7ec.gradio.live\n",
    "```\n",
    "\n",
    "注意，这个公开链接不宜公开分享，以免显存被大量用户占用，而且这个链接会在72小时后过期"
   ]
  },
  {
   "cell_type": "markdown",
   "id": "e8b49605-c545-42bb-bc8f-65df31155acb",
   "metadata": {},
   "source": [
    "## 更多参考资料\n",
    "\n",
    "WebUI界面：https://github.com/2noise/ChatTTS/issues/278\n",
    "\n",
    "音色试听：https://github.com/kangyiwen/TTSlist"
   ]
  },
  {
   "cell_type": "code",
   "execution_count": null,
   "id": "fbe4e4ab-aa7d-470a-8a0c-45ca8edd69d6",
   "metadata": {},
   "outputs": [],
   "source": []
  }
 ],
 "metadata": {
  "kernelspec": {
   "display_name": "Python 3 (ipykernel)",
   "language": "python",
   "name": "python3"
  },
  "language_info": {
   "codemirror_mode": {
    "name": "ipython",
    "version": 3
   },
   "file_extension": ".py",
   "mimetype": "text/x-python",
   "name": "python",
   "nbconvert_exporter": "python",
   "pygments_lexer": "ipython3",
   "version": "3.10.12"
  }
 },
 "nbformat": 4,
 "nbformat_minor": 5
}
